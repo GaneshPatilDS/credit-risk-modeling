{
 "cells": [
  {
   "cell_type": "code",
   "execution_count": 1,
   "id": "860343ec-b767-4fd3-8ec8-28331b496670",
   "metadata": {},
   "outputs": [],
   "source": [
    "import pandas as pd\n",
    "import numpy as np\n",
    "import matplotlib.pyplot as plt\n",
    "import seaborn as sns\n",
    "from scipy.stats import gaussian_kde, skew, kurtosis, shapiro\n",
    "from scipy.stats import chi2_contingency\n",
    "from sklearn.metrics import r2_score\n",
    "from statsmodels.stats.outliers_influence import variance_inflation_factor"
   ]
  },
  {
   "cell_type": "code",
   "execution_count": 2,
   "id": "db0723f7-f4ea-4109-a8eb-cbf4698bcf67",
   "metadata": {},
   "outputs": [],
   "source": [
    "# Read the Excel files using pd.read_excel\n",
    "a = pd.read_excel(r'C:\\Users\\Harshali\\Documents\\Copy of case_study1.xlsx')\n",
    "b = pd.read_excel(r'C:\\Users\\Harshali\\Documents\\Copy of case_study2.xlsx')\n"
   ]
  },
  {
   "cell_type": "code",
   "execution_count": 3,
   "id": "d7702456-9da3-45af-97df-4329ba644b8c",
   "metadata": {},
   "outputs": [
    {
     "name": "stdout",
     "output_type": "stream",
     "text": [
      "Internal Data Columns:\n",
      "Index(['PROSPECTID', 'Total_TL', 'Tot_Closed_TL', 'Tot_Active_TL',\n",
      "       'Total_TL_opened_L6M', 'Tot_TL_closed_L6M', 'pct_tl_open_L6M',\n",
      "       'pct_tl_closed_L6M', 'pct_active_tl', 'pct_closed_tl',\n",
      "       'Total_TL_opened_L12M', 'Tot_TL_closed_L12M', 'pct_tl_open_L12M',\n",
      "       'pct_tl_closed_L12M', 'Tot_Missed_Pmnt', 'Auto_TL', 'CC_TL',\n",
      "       'Consumer_TL', 'Gold_TL', 'Home_TL', 'PL_TL', 'Secured_TL',\n",
      "       'Unsecured_TL', 'Other_TL', 'Age_Oldest_TL', 'Age_Newest_TL'],\n",
      "      dtype='object')\n",
      "====================================================================================================\n",
      "CIBIL Data Columns:\n",
      "Index(['PROSPECTID', 'time_since_recent_payment',\n",
      "       'time_since_first_deliquency', 'time_since_recent_deliquency',\n",
      "       'num_times_delinquent', 'max_delinquency_level',\n",
      "       'max_recent_level_of_deliq', 'num_deliq_6mts', 'num_deliq_12mts',\n",
      "       'num_deliq_6_12mts', 'max_deliq_6mts', 'max_deliq_12mts',\n",
      "       'num_times_30p_dpd', 'num_times_60p_dpd', 'num_std', 'num_std_6mts',\n",
      "       'num_std_12mts', 'num_sub', 'num_sub_6mts', 'num_sub_12mts', 'num_dbt',\n",
      "       'num_dbt_6mts', 'num_dbt_12mts', 'num_lss', 'num_lss_6mts',\n",
      "       'num_lss_12mts', 'recent_level_of_deliq', 'tot_enq', 'CC_enq',\n",
      "       'CC_enq_L6m', 'CC_enq_L12m', 'PL_enq', 'PL_enq_L6m', 'PL_enq_L12m',\n",
      "       'time_since_recent_enq', 'enq_L12m', 'enq_L6m', 'enq_L3m',\n",
      "       'MARITALSTATUS', 'EDUCATION', 'AGE', 'GENDER', 'NETMONTHLYINCOME',\n",
      "       'Time_With_Curr_Empr', 'pct_of_active_TLs_ever',\n",
      "       'pct_opened_TLs_L6m_of_L12m', 'pct_currentBal_all_TL', 'CC_utilization',\n",
      "       'CC_Flag', 'PL_utilization', 'PL_Flag', 'pct_PL_enq_L6m_of_L12m',\n",
      "       'pct_CC_enq_L6m_of_L12m', 'pct_PL_enq_L6m_of_ever',\n",
      "       'pct_CC_enq_L6m_of_ever', 'max_unsec_exposure_inPct', 'HL_Flag',\n",
      "       'GL_Flag', 'last_prod_enq2', 'first_prod_enq2', 'Credit_Score',\n",
      "       'Approved_Flag'],\n",
      "      dtype='object')\n"
     ]
    }
   ],
   "source": [
    "# Creating copies of the original DataFrames\n",
    "\n",
    "internal_data = a.copy()  # Copy of the internal data\n",
    "cibil_data = b.copy()     # Copy of the CIBIL data\n",
    "\n",
    "# Display the column names for both DataFrames\n",
    "print(\"Internal Data Columns:\")\n",
    "print(internal_data.columns)\n",
    "print('=' * 100)\n",
    "\n",
    "print(\"CIBIL Data Columns:\")\n",
    "print(cibil_data.columns)"
   ]
  },
  {
   "cell_type": "code",
   "execution_count": 4,
   "id": "6a436a55-e36e-460c-8f85-58b87d6ce3a9",
   "metadata": {},
   "outputs": [
    {
     "name": "stdout",
     "output_type": "stream",
     "text": [
      "Internal Data Information\n",
      "====================================================================================================\n",
      "<class 'pandas.core.frame.DataFrame'>\n",
      "RangeIndex: 51336 entries, 0 to 51335\n",
      "Data columns (total 26 columns):\n",
      " #   Column                Non-Null Count  Dtype  \n",
      "---  ------                --------------  -----  \n",
      " 0   PROSPECTID            51336 non-null  int64  \n",
      " 1   Total_TL              51336 non-null  int64  \n",
      " 2   Tot_Closed_TL         51336 non-null  int64  \n",
      " 3   Tot_Active_TL         51336 non-null  int64  \n",
      " 4   Total_TL_opened_L6M   51336 non-null  int64  \n",
      " 5   Tot_TL_closed_L6M     51336 non-null  int64  \n",
      " 6   pct_tl_open_L6M       51336 non-null  float64\n",
      " 7   pct_tl_closed_L6M     51336 non-null  float64\n",
      " 8   pct_active_tl         51336 non-null  float64\n",
      " 9   pct_closed_tl         51336 non-null  float64\n",
      " 10  Total_TL_opened_L12M  51336 non-null  int64  \n",
      " 11  Tot_TL_closed_L12M    51336 non-null  int64  \n",
      " 12  pct_tl_open_L12M      51336 non-null  float64\n",
      " 13  pct_tl_closed_L12M    51336 non-null  float64\n",
      " 14  Tot_Missed_Pmnt       51336 non-null  int64  \n",
      " 15  Auto_TL               51336 non-null  int64  \n",
      " 16  CC_TL                 51336 non-null  int64  \n",
      " 17  Consumer_TL           51336 non-null  int64  \n",
      " 18  Gold_TL               51336 non-null  int64  \n",
      " 19  Home_TL               51336 non-null  int64  \n",
      " 20  PL_TL                 51336 non-null  int64  \n",
      " 21  Secured_TL            51336 non-null  int64  \n",
      " 22  Unsecured_TL          51336 non-null  int64  \n",
      " 23  Other_TL              51336 non-null  int64  \n",
      " 24  Age_Oldest_TL         51336 non-null  int64  \n",
      " 25  Age_Newest_TL         51336 non-null  int64  \n",
      "dtypes: float64(6), int64(20)\n",
      "memory usage: 10.2 MB\n",
      "\n",
      "====================================================================================================\n",
      "\n",
      "CIBIL Data Information\n",
      "====================================================================================================\n",
      "<class 'pandas.core.frame.DataFrame'>\n",
      "RangeIndex: 51336 entries, 0 to 51335\n",
      "Data columns (total 62 columns):\n",
      " #   Column                        Non-Null Count  Dtype  \n",
      "---  ------                        --------------  -----  \n",
      " 0   PROSPECTID                    51336 non-null  int64  \n",
      " 1   time_since_recent_payment     51336 non-null  int64  \n",
      " 2   time_since_first_deliquency   51336 non-null  int64  \n",
      " 3   time_since_recent_deliquency  51336 non-null  int64  \n",
      " 4   num_times_delinquent          51336 non-null  int64  \n",
      " 5   max_delinquency_level         51336 non-null  int64  \n",
      " 6   max_recent_level_of_deliq     51336 non-null  int64  \n",
      " 7   num_deliq_6mts                51336 non-null  int64  \n",
      " 8   num_deliq_12mts               51336 non-null  int64  \n",
      " 9   num_deliq_6_12mts             51336 non-null  int64  \n",
      " 10  max_deliq_6mts                51336 non-null  int64  \n",
      " 11  max_deliq_12mts               51336 non-null  int64  \n",
      " 12  num_times_30p_dpd             51336 non-null  int64  \n",
      " 13  num_times_60p_dpd             51336 non-null  int64  \n",
      " 14  num_std                       51336 non-null  int64  \n",
      " 15  num_std_6mts                  51336 non-null  int64  \n",
      " 16  num_std_12mts                 51336 non-null  int64  \n",
      " 17  num_sub                       51336 non-null  int64  \n",
      " 18  num_sub_6mts                  51336 non-null  int64  \n",
      " 19  num_sub_12mts                 51336 non-null  int64  \n",
      " 20  num_dbt                       51336 non-null  int64  \n",
      " 21  num_dbt_6mts                  51336 non-null  int64  \n",
      " 22  num_dbt_12mts                 51336 non-null  int64  \n",
      " 23  num_lss                       51336 non-null  int64  \n",
      " 24  num_lss_6mts                  51336 non-null  int64  \n",
      " 25  num_lss_12mts                 51336 non-null  int64  \n",
      " 26  recent_level_of_deliq         51336 non-null  int64  \n",
      " 27  tot_enq                       51336 non-null  int64  \n",
      " 28  CC_enq                        51336 non-null  int64  \n",
      " 29  CC_enq_L6m                    51336 non-null  int64  \n",
      " 30  CC_enq_L12m                   51336 non-null  int64  \n",
      " 31  PL_enq                        51336 non-null  int64  \n",
      " 32  PL_enq_L6m                    51336 non-null  int64  \n",
      " 33  PL_enq_L12m                   51336 non-null  int64  \n",
      " 34  time_since_recent_enq         51336 non-null  int64  \n",
      " 35  enq_L12m                      51336 non-null  int64  \n",
      " 36  enq_L6m                       51336 non-null  int64  \n",
      " 37  enq_L3m                       51336 non-null  int64  \n",
      " 38  MARITALSTATUS                 51336 non-null  object \n",
      " 39  EDUCATION                     51336 non-null  object \n",
      " 40  AGE                           51336 non-null  int64  \n",
      " 41  GENDER                        51336 non-null  object \n",
      " 42  NETMONTHLYINCOME              51336 non-null  int64  \n",
      " 43  Time_With_Curr_Empr           51336 non-null  int64  \n",
      " 44  pct_of_active_TLs_ever        51336 non-null  float64\n",
      " 45  pct_opened_TLs_L6m_of_L12m    51336 non-null  float64\n",
      " 46  pct_currentBal_all_TL         51336 non-null  float64\n",
      " 47  CC_utilization                51336 non-null  float64\n",
      " 48  CC_Flag                       51336 non-null  int64  \n",
      " 49  PL_utilization                51336 non-null  float64\n",
      " 50  PL_Flag                       51336 non-null  int64  \n",
      " 51  pct_PL_enq_L6m_of_L12m        51336 non-null  float64\n",
      " 52  pct_CC_enq_L6m_of_L12m        51336 non-null  float64\n",
      " 53  pct_PL_enq_L6m_of_ever        51336 non-null  float64\n",
      " 54  pct_CC_enq_L6m_of_ever        51336 non-null  float64\n",
      " 55  max_unsec_exposure_inPct      51336 non-null  float64\n",
      " 56  HL_Flag                       51336 non-null  int64  \n",
      " 57  GL_Flag                       51336 non-null  int64  \n",
      " 58  last_prod_enq2                51336 non-null  object \n",
      " 59  first_prod_enq2               51336 non-null  object \n",
      " 60  Credit_Score                  51336 non-null  int64  \n",
      " 61  Approved_Flag                 51336 non-null  object \n",
      "dtypes: float64(10), int64(46), object(6)\n",
      "memory usage: 24.3+ MB\n"
     ]
    }
   ],
   "source": [
    "# Display information about the Internal Data\n",
    "print(\"Internal Data Information\")\n",
    "print(\"=\"*100)\n",
    "internal_data.info()\n",
    "\n",
    "print(\"\\n\" + \"=\"*100 + \"\\n\")\n",
    "\n",
    "# Display information about the CIBIL Data\n",
    "print(\"CIBIL Data Information\")\n",
    "print(\"=\"*100)\n",
    "cibil_data.info()"
   ]
  },
  {
   "cell_type": "code",
   "execution_count": 5,
   "id": "154c5217-4558-4998-b8f4-a837b7f248e4",
   "metadata": {},
   "outputs": [
    {
     "data": {
      "text/plain": [
       "array([    72,      7,     47,      5,    131,    150,     17,     36,\n",
       "           16,     66,     64,     96,     49,     38,      9,      6,\n",
       "          110,    138,      8,     92,     40,     11,     51,     59,\n",
       "           37,    159,     10,     20,      4,     26,     19,     41,\n",
       "           73,     45,     32,     33,     48,     18,     60,     14,\n",
       "           83,     44,     24,     42,     39,     12,     27,     70,\n",
       "           76,    120,    115,     46,     93,     56,     61,    113,\n",
       "           67,     74,     22,    191,      3,     65,    192,     43,\n",
       "           13,     29,    193,     98,     63,     58,     30,     23,\n",
       "           69,     53,    145,     31,     77,    104,     87,     15,\n",
       "           62,     21,     97,     34,     28,    137,     86,    124,\n",
       "          129,     50,     35,      2,    102,    154,    148,    128,\n",
       "           94,    107,    135,     81,     68,     78,    130,     91,\n",
       "           71,     89,    123,    213,     88,     52,    175,      1,\n",
       "          174,    111,     90,     57,    183,    108,     54,     79,\n",
       "          166,     55,    160,    146,     84,    167,     75,     80,\n",
       "          116,    100, -99999,    197,    181,    155,    126,     25,\n",
       "          168,     95,    149,    136,    172,    134,    133,    179,\n",
       "          184,    144,    177,    117,    176,    114,    186,    109,\n",
       "          164,    141,     82,    132,    127,    125,    142,    230,\n",
       "           85,    106,    140,    153,    169,    165,    182,    187,\n",
       "          143,    178,    101,    170,    190,    157,    205,    121,\n",
       "          267,    198,    105,    103,    158,    163,    151,    188,\n",
       "          119,    112,    118,     99,    204,    214,    139,    152,\n",
       "          189,    162,    171,    200,    122,    147,    196,    161,\n",
       "          208,    180,    218,    211,    234,    281,    229,    156,\n",
       "          215,      0,    173,    185,    299,    223,    272,    257,\n",
       "          195,    260,    210,    233,    385,    206,    202,    194,\n",
       "          250,    242,    254,    249,    280,    312,    217,    203,\n",
       "          274,    228,    262,    212,    216,    359,    261,    207,\n",
       "          324,    235,    270,    220,    201,    352,    221,    296,\n",
       "          302,    222,    256,    219,    284,    253,    338,    370,\n",
       "          199,    252,    350,    288,    225,    355,    237,    224,\n",
       "          226,    333,    238,    297,    313,    232,    251,    231,\n",
       "          248,    227,    276,    236,    209,    245,    247,    282,\n",
       "          259,    303,    258,    373,    264,    240,    246,    392,\n",
       "          301,    307,    291,    273,    266,    286,    337],\n",
       "      dtype=int64)"
      ]
     },
     "execution_count": 5,
     "metadata": {},
     "output_type": "execute_result"
    }
   ],
   "source": [
    "internal_data['Age_Oldest_TL'].unique()    "
   ]
  },
  {
   "cell_type": "code",
   "execution_count": 6,
   "id": "16a183fc-8544-4133-8a4d-cb1da1377888",
   "metadata": {},
   "outputs": [
    {
     "name": "stdout",
     "output_type": "stream",
     "text": [
      "Columns containing -99999 values:\n",
      "Index(['Age_Oldest_TL', 'Age_Newest_TL'], dtype='object')\n"
     ]
    }
   ],
   "source": [
    "# Identify columns that contain -99999\n",
    "columns_with_negative_value = internal_data.columns[(internal_data == -99999).any()]\n",
    "\n",
    "# Display the columns\n",
    "print(\"Columns containing -99999 values:\")\n",
    "print(columns_with_negative_value)"
   ]
  },
  {
   "cell_type": "code",
   "execution_count": 7,
   "id": "13b19c84-17cd-4913-b293-4320fcec4f61",
   "metadata": {},
   "outputs": [
    {
     "name": "stdout",
     "output_type": "stream",
     "text": [
      "Percentage of -99999 values in 'Age_Oldest_TL': 0.08%\n",
      "Percentage of -99999 values in 'Age_Newest_TL': 0.08%\n"
     ]
    }
   ],
   "source": [
    "# List of columns to check\n",
    "columns_to_check = ['Age_Oldest_TL', 'Age_Newest_TL']\n",
    "\n",
    "# Calculate and print the percentage of -99999 values for each column\n",
    "for column in columns_to_check:\n",
    "    negative_values_count = (internal_data[column] == -99999).sum()\n",
    "    total_values = internal_data[column].shape[0]\n",
    "    negative_values_percentage = (negative_values_count / total_values) * 100\n",
    "    print(f\"Percentage of -99999 values in '{column}': {negative_values_percentage:.2f}%\")"
   ]
  },
  {
   "cell_type": "markdown",
   "id": "49deb787-8a2d-439e-84ad-ef45b2352ed0",
   "metadata": {},
   "source": [
    "---------------------------------------------------------------------------------------------------------------------------------"
   ]
  },
  {
   "cell_type": "code",
   "execution_count": 8,
   "id": "7bb2505f-a648-4588-a26c-25462c8b1358",
   "metadata": {},
   "outputs": [
    {
     "name": "stdout",
     "output_type": "stream",
     "text": [
      "Shape of cibil_data: (51336, 62)\n",
      "____________________________________________________________________________________________________\n",
      "Columns to be removed: ['time_since_first_deliquency', 'time_since_recent_deliquency', 'max_delinquency_level', 'max_deliq_6mts', 'max_deliq_12mts', 'CC_utilization', 'PL_utilization', 'max_unsec_exposure_inPct']\n",
      "____________________________________________________________________________________________________\n",
      "remaining_columns : 54\n"
     ]
    }
   ],
   "source": [
    "# Determine the shape of the cibil_data dataframe\n",
    "cibil_data_shape = cibil_data.shape\n",
    "\n",
    "# Initialize an empty list to store columns that need to be removed\n",
    "columns_to_be_removed = []\n",
    "\n",
    "# Iterate over each column in the cibil_data dataframe\n",
    "for column in cibil_data.columns:\n",
    "    # Count the number of occurrences of -99999 in the current column\n",
    "    count_missing_values = (cibil_data[column] == -99999).sum()\n",
    "    \n",
    "    # If the count of -99999 is greater than 10,000, add the column to the removal list\n",
    "    if count_missing_values > 10000:\n",
    "        columns_to_be_removed.append(column)\n",
    "\n",
    "# Print the shape of the dataframe and the columns to be removed\n",
    "print(\"Shape of cibil_data:\", cibil_data_shape)\n",
    "print('_'*100)\n",
    "print(\"Columns to be removed:\", columns_to_be_removed)\n",
    "print('_'*100)\n",
    "# Calculate the number of remaining columns\n",
    "remaining_columns = cibil_data.shape[1] - len(columns_to_be_removed)\n",
    "print('remaining_columns :',remaining_columns)\n"
   ]
  },
  {
   "cell_type": "code",
   "execution_count": null,
   "id": "8b520e37",
   "metadata": {},
   "outputs": [],
   "source": []
  },
  {
   "cell_type": "code",
   "execution_count": 10,
   "id": "83724a61-c4b7-41b8-a19a-d0775b7e49c1",
   "metadata": {},
   "outputs": [],
   "source": [
    "# This line removes the columns listed in 'columns_to_be_removed' from the 'cibil_data' DataFrame.\n",
    "cibil_data = cibil_data.drop(columns_to_be_removed, axis=1)"
   ]
  },
  {
   "cell_type": "code",
   "execution_count": 11,
   "id": "3e099f1d-b927-428b-9293-d1ab1e41846d",
   "metadata": {},
   "outputs": [
    {
     "name": "stdout",
     "output_type": "stream",
     "text": [
      "New shape of cibil_data after removing columns: (51336, 54)\n"
     ]
    }
   ],
   "source": [
    "\n",
    "# Print the new shape of the DataFrame to confirm the changes\n",
    "print(\"New shape of cibil_data after removing columns:\", cibil_data.shape)"
   ]
  },
  {
   "cell_type": "code",
   "execution_count": 12,
   "id": "45119a71-3697-4dac-be82-fc7548775706",
   "metadata": {},
   "outputs": [
    {
     "name": "stdout",
     "output_type": "stream",
     "text": [
      "New shape of cibil_data after removing rows: (42066, 54)\n",
      "Total No. of removed rows: 9270\n"
     ]
    }
   ],
   "source": [
    "# This loop iterates over each column in the 'cibil_data' DataFrame.\n",
    "# remove rows\n",
    "for i in cibil_data.columns:\n",
    "    cibil_data = cibil_data.loc[cibil_data[i] != -99999]\n",
    "    \n",
    "    \n",
    "original_rows = 51336 \n",
    "print(\"New shape of cibil_data after removing rows:\", cibil_data.shape)\n",
    "print(\"Total No. of removed rows:\", original_rows - cibil_data.shape[0])"
   ]
  },
  {
   "cell_type": "code",
   "execution_count": 13,
   "id": "e9696159-7430-495a-9fcd-6f483ce48ff0",
   "metadata": {},
   "outputs": [
    {
     "name": "stdout",
     "output_type": "stream",
     "text": [
      "Shape of the merged DataFrame: (42066, 79)\n"
     ]
    }
   ],
   "source": [
    "#  \"internal_data\" and \"cibil_data\" are your two DataFrames and 'PROSPECTID' is the common column\n",
    "\n",
    "df = pd.merge(internal_data , cibil_data , how='inner', left_on='PROSPECTID', right_on='PROSPECTID')\n",
    "\n",
    "# Print the shape of the resulting DataFrame to confirm the merge\n",
    "print(\"Shape of the merged DataFrame:\", df.shape)"
   ]
  },
  {
   "cell_type": "code",
   "execution_count": 14,
   "id": "4781f179-cf74-4832-828c-bbdafdd97585",
   "metadata": {},
   "outputs": [
    {
     "name": "stdout",
     "output_type": "stream",
     "text": [
      "Columns in the combined DataFrame: ['PROSPECTID', 'Total_TL', 'Tot_Closed_TL', 'Tot_Active_TL', 'Total_TL_opened_L6M', 'Tot_TL_closed_L6M', 'pct_tl_open_L6M', 'pct_tl_closed_L6M', 'pct_active_tl', 'pct_closed_tl', 'Total_TL_opened_L12M', 'Tot_TL_closed_L12M', 'pct_tl_open_L12M', 'pct_tl_closed_L12M', 'Tot_Missed_Pmnt', 'Auto_TL', 'CC_TL', 'Consumer_TL', 'Gold_TL', 'Home_TL', 'PL_TL', 'Secured_TL', 'Unsecured_TL', 'Other_TL', 'Age_Oldest_TL', 'Age_Newest_TL', 'time_since_recent_payment', 'num_times_delinquent', 'max_recent_level_of_deliq', 'num_deliq_6mts', 'num_deliq_12mts', 'num_deliq_6_12mts', 'num_times_30p_dpd', 'num_times_60p_dpd', 'num_std', 'num_std_6mts', 'num_std_12mts', 'num_sub', 'num_sub_6mts', 'num_sub_12mts', 'num_dbt', 'num_dbt_6mts', 'num_dbt_12mts', 'num_lss', 'num_lss_6mts', 'num_lss_12mts', 'recent_level_of_deliq', 'tot_enq', 'CC_enq', 'CC_enq_L6m', 'CC_enq_L12m', 'PL_enq', 'PL_enq_L6m', 'PL_enq_L12m', 'time_since_recent_enq', 'enq_L12m', 'enq_L6m', 'enq_L3m', 'MARITALSTATUS', 'EDUCATION', 'AGE', 'GENDER', 'NETMONTHLYINCOME', 'Time_With_Curr_Empr', 'pct_of_active_TLs_ever', 'pct_opened_TLs_L6m_of_L12m', 'pct_currentBal_all_TL', 'CC_Flag', 'PL_Flag', 'pct_PL_enq_L6m_of_L12m', 'pct_CC_enq_L6m_of_L12m', 'pct_PL_enq_L6m_of_ever', 'pct_CC_enq_L6m_of_ever', 'HL_Flag', 'GL_Flag', 'last_prod_enq2', 'first_prod_enq2', 'Credit_Score', 'Approved_Flag']\n"
     ]
    }
   ],
   "source": [
    "# Print the columns of the combined DataFrame\n",
    "print(\"Columns in the combined DataFrame:\", df.columns.tolist())"
   ]
  },
  {
   "cell_type": "markdown",
   "id": "c4525c62-c384-400e-b888-b89281fbcd4a",
   "metadata": {},
   "source": [
    "-----------------------------------------------------------------------------------------------------------------------------"
   ]
  },
  {
   "cell_type": "markdown",
   "id": "6f2d9786-3589-417b-9d61-4acd100f7160",
   "metadata": {},
   "source": [
    "# Feature Selection:\n",
    "  - Chi-Square Test:\n",
    "  - ANOVA Test\n",
    "  - VIF Calculation:"
   ]
  },
  {
   "cell_type": "markdown",
   "id": "eef94381-3b46-4bc0-9f5f-b9a700134966",
   "metadata": {},
   "source": [
    "-----------------------------------------------------------------------------------------------------------------------------"
   ]
  },
  {
   "cell_type": "code",
   "execution_count": 15,
   "id": "781fb724-b370-489f-ace4-75dec13a1710",
   "metadata": {},
   "outputs": [
    {
     "data": {
      "text/plain": [
       "array(['P2', 'P1', 'P3', 'P4'], dtype=object)"
      ]
     },
     "execution_count": 15,
     "metadata": {},
     "output_type": "execute_result"
    }
   ],
   "source": [
    "# target column\n",
    "df['Approved_Flag'].unique()\n"
   ]
  },
  {
   "cell_type": "code",
   "execution_count": 16,
   "id": "4fbc26e1-f825-415d-992a-61fb2ffe15b1",
   "metadata": {},
   "outputs": [
    {
     "name": "stdout",
     "output_type": "stream",
     "text": [
      "MARITALSTATUS\n",
      "EDUCATION\n",
      "GENDER\n",
      "last_prod_enq2\n",
      "first_prod_enq2\n",
      "Approved_Flag\n"
     ]
    }
   ],
   "source": [
    "# Check how many columns are categorical\n",
    "for i in df.columns:\n",
    "    if df[i].dtype == 'object':\n",
    "        print(i)"
   ]
  },
  {
   "cell_type": "code",
   "execution_count": 17,
   "id": "1c78d17a-1181-4f86-94ec-0a6b8bab70a3",
   "metadata": {},
   "outputs": [
    {
     "name": "stdout",
     "output_type": "stream",
     "text": [
      "MARITALSTATUS --- 3.6401547776371343e-233\n",
      "EDUCATION --- 2.8651007585199264e-30\n",
      "GENDER --- 1.8610038357046495e-05\n",
      "last_prod_enq2 --- 0.0\n",
      "first_prod_enq2 --- 8.375872889007583e-287\n"
     ]
    }
   ],
   "source": [
    "# Chi-square test\n",
    "\n",
    "for i in ['MARITALSTATUS', 'EDUCATION', 'GENDER', 'last_prod_enq2', 'first_prod_enq2']:\n",
    "    chi2, pval, _, _ = chi2_contingency(pd.crosstab(df[i], df['Approved_Flag']))\n",
    "    print(i, '---', pval)"
   ]
  },
  {
   "cell_type": "code",
   "execution_count": 18,
   "id": "413f3bff-9f28-4b54-a8e0-0c29f735b287",
   "metadata": {},
   "outputs": [
    {
     "name": "stdout",
     "output_type": "stream",
     "text": [
      "\n",
      "Feature Associations:\n",
      "________________________________________________________________________________________________________________________\n",
      "MARITALSTATUS is associated with the target feature (Approved_Flag).\n",
      "EDUCATION is associated with the target feature (Approved_Flag).\n",
      "GENDER is associated with the target feature (Approved_Flag).\n",
      "last_prod_enq2 is associated with the target feature (Approved_Flag).\n",
      "first_prod_enq2 is associated with the target feature (Approved_Flag).\n",
      "________________________________________________________________________________________________________________________\n"
     ]
    }
   ],
   "source": [
    "# Decision making based on p-values\n",
    "print(\"\\nFeature Associations:\")\n",
    "print('_'*120)\n",
    "for i in ['MARITALSTATUS', 'EDUCATION', 'GENDER', 'last_prod_enq2', 'first_prod_enq2']:\n",
    "    chi2, pval, _, _ = chi2_contingency(pd.crosstab(df[i], df['Approved_Flag']))\n",
    "    \n",
    "    # If p-value is less than 0.05, feature is associated with the target variable\n",
    "    if pval < 0.05:\n",
    "        print(f\"{i} is associated with the target feature (Approved_Flag).\")\n",
    "    else:\n",
    "        print(f\"{i} is not associated with the target feature (Approved_Flag).\")\n",
    "        \n",
    "print('_'*120)       "
   ]
  },
  {
   "cell_type": "code",
   "execution_count": null,
   "id": "d738db14-a180-4a7d-94c2-e4763ce9ebd8",
   "metadata": {},
   "outputs": [],
   "source": []
  },
  {
   "cell_type": "code",
   "execution_count": 20,
   "id": "cd0a97ef-6109-4de3-833b-6d72b234531e",
   "metadata": {},
   "outputs": [],
   "source": [
    "\n",
    "# VIF for numerical columns\n",
    "numeric_columns = []\n",
    "for i in df.columns:\n",
    "    if df[i].dtype != 'object' and i not in ['PROSPECTID','Approved_Flag']:\n",
    "        numeric_columns.append(i)"
   ]
  },
  {
   "cell_type": "code",
   "execution_count": 21,
   "id": "d5d31835-e1f9-4ae2-b7fe-20ec2dabf21f",
   "metadata": {},
   "outputs": [
    {
     "data": {
      "text/plain": [
       "['Total_TL',\n",
       " 'Tot_Closed_TL',\n",
       " 'Tot_Active_TL',\n",
       " 'Total_TL_opened_L6M',\n",
       " 'Tot_TL_closed_L6M',\n",
       " 'pct_tl_open_L6M',\n",
       " 'pct_tl_closed_L6M',\n",
       " 'pct_active_tl',\n",
       " 'pct_closed_tl',\n",
       " 'Total_TL_opened_L12M',\n",
       " 'Tot_TL_closed_L12M',\n",
       " 'pct_tl_open_L12M',\n",
       " 'pct_tl_closed_L12M',\n",
       " 'Tot_Missed_Pmnt',\n",
       " 'Auto_TL',\n",
       " 'CC_TL',\n",
       " 'Consumer_TL',\n",
       " 'Gold_TL',\n",
       " 'Home_TL',\n",
       " 'PL_TL',\n",
       " 'Secured_TL',\n",
       " 'Unsecured_TL',\n",
       " 'Other_TL',\n",
       " 'Age_Oldest_TL',\n",
       " 'Age_Newest_TL',\n",
       " 'time_since_recent_payment',\n",
       " 'num_times_delinquent',\n",
       " 'max_recent_level_of_deliq',\n",
       " 'num_deliq_6mts',\n",
       " 'num_deliq_12mts',\n",
       " 'num_deliq_6_12mts',\n",
       " 'num_times_30p_dpd',\n",
       " 'num_times_60p_dpd',\n",
       " 'num_std',\n",
       " 'num_std_6mts',\n",
       " 'num_std_12mts',\n",
       " 'num_sub',\n",
       " 'num_sub_6mts',\n",
       " 'num_sub_12mts',\n",
       " 'num_dbt',\n",
       " 'num_dbt_6mts',\n",
       " 'num_dbt_12mts',\n",
       " 'num_lss',\n",
       " 'num_lss_6mts',\n",
       " 'num_lss_12mts',\n",
       " 'recent_level_of_deliq',\n",
       " 'tot_enq',\n",
       " 'CC_enq',\n",
       " 'CC_enq_L6m',\n",
       " 'CC_enq_L12m',\n",
       " 'PL_enq',\n",
       " 'PL_enq_L6m',\n",
       " 'PL_enq_L12m',\n",
       " 'time_since_recent_enq',\n",
       " 'enq_L12m',\n",
       " 'enq_L6m',\n",
       " 'enq_L3m',\n",
       " 'AGE',\n",
       " 'NETMONTHLYINCOME',\n",
       " 'Time_With_Curr_Empr',\n",
       " 'pct_of_active_TLs_ever',\n",
       " 'pct_opened_TLs_L6m_of_L12m',\n",
       " 'pct_currentBal_all_TL',\n",
       " 'CC_Flag',\n",
       " 'PL_Flag',\n",
       " 'pct_PL_enq_L6m_of_L12m',\n",
       " 'pct_CC_enq_L6m_of_L12m',\n",
       " 'pct_PL_enq_L6m_of_ever',\n",
       " 'pct_CC_enq_L6m_of_ever',\n",
       " 'HL_Flag',\n",
       " 'GL_Flag',\n",
       " 'Credit_Score']"
      ]
     },
     "execution_count": 21,
     "metadata": {},
     "output_type": "execute_result"
    }
   ],
   "source": [
    "numeric_columns"
   ]
  },
  {
   "cell_type": "code",
   "execution_count": 22,
   "id": "a1529c7d-ffa7-4bd4-bcef-0fe2a79f4578",
   "metadata": {},
   "outputs": [
    {
     "data": {
      "text/plain": [
       "72"
      ]
     },
     "execution_count": 22,
     "metadata": {},
     "output_type": "execute_result"
    }
   ],
   "source": [
    "len(numeric_columns)"
   ]
  },
  {
   "cell_type": "code",
   "execution_count": 23,
   "id": "d385015f-d2e5-4240-a0a2-b8358c046b52",
   "metadata": {},
   "outputs": [],
   "source": [
    "# Select only numeric columns from the DataFrame\n",
    "vif_data = df[numeric_columns]\n",
    "\n",
    "# Get the total number of columns\n",
    "total_columns = vif_data.shape[1]\n",
    "\n",
    "# Initialize an empty list to store columns with acceptable VIF values\n",
    "columns_to_be_kept = []\n",
    "\n",
    "# Initialize a column index variable\n",
    "column_index = 0"
   ]
  },
  {
   "cell_type": "code",
   "execution_count": 24,
   "id": "5084a195-3af8-4238-aefc-5b20423701e0",
   "metadata": {},
   "outputs": [
    {
     "data": {
      "text/plain": [
       "72"
      ]
     },
     "execution_count": 24,
     "metadata": {},
     "output_type": "execute_result"
    }
   ],
   "source": [
    "vif_data.shape[1]"
   ]
  },
  {
   "cell_type": "code",
   "execution_count": 25,
   "id": "54bbdd08-6766-46e5-98ac-977659ff9222",
   "metadata": {},
   "outputs": [
    {
     "name": "stderr",
     "output_type": "stream",
     "text": [
      "C:\\Users\\Harshali\\anaconda3\\new_conda\\Lib\\site-packages\\statsmodels\\stats\\outliers_influence.py:197: RuntimeWarning: divide by zero encountered in scalar divide\n",
      "  vif = 1. / (1. - r_squared_i)\n"
     ]
    },
    {
     "name": "stdout",
     "output_type": "stream",
     "text": [
      "0 --- inf\n"
     ]
    },
    {
     "name": "stderr",
     "output_type": "stream",
     "text": [
      "C:\\Users\\Harshali\\anaconda3\\new_conda\\Lib\\site-packages\\statsmodels\\stats\\outliers_influence.py:197: RuntimeWarning: divide by zero encountered in scalar divide\n",
      "  vif = 1. / (1. - r_squared_i)\n"
     ]
    },
    {
     "name": "stdout",
     "output_type": "stream",
     "text": [
      "0 --- inf\n",
      "0 --- 11.319677860911183\n",
      "0 --- 8.291829772566755\n",
      "0 --- 6.520138234382173\n",
      "0 --- 5.059265701555735\n",
      "1 --- 2.6064779388021044\n"
     ]
    },
    {
     "name": "stderr",
     "output_type": "stream",
     "text": [
      "C:\\Users\\Harshali\\anaconda3\\new_conda\\Lib\\site-packages\\statsmodels\\stats\\outliers_influence.py:197: RuntimeWarning: divide by zero encountered in scalar divide\n",
      "  vif = 1. / (1. - r_squared_i)\n"
     ]
    },
    {
     "name": "stdout",
     "output_type": "stream",
     "text": [
      "2 --- inf\n",
      "2 --- 1779.2530019989363\n",
      "2 --- 8.57605846135607\n",
      "2 --- 3.829565647163703\n",
      "3 --- 5.4692110955705875\n",
      "4 --- 5.503957502932518\n",
      "5 --- 1.973712154119323\n"
     ]
    },
    {
     "name": "stderr",
     "output_type": "stream",
     "text": [
      "C:\\Users\\Harshali\\anaconda3\\new_conda\\Lib\\site-packages\\statsmodels\\stats\\outliers_influence.py:197: RuntimeWarning: divide by zero encountered in scalar divide\n",
      "  vif = 1. / (1. - r_squared_i)\n"
     ]
    },
    {
     "name": "stdout",
     "output_type": "stream",
     "text": [
      "6 --- inf\n",
      "6 --- 4.811919298953734\n",
      "7 --- 23.146961044025943\n",
      "7 --- 30.634993848319926\n",
      "7 --- 4.384922735753695\n",
      "8 --- 3.0648663541161247\n",
      "9 --- 2.8932461784347443\n",
      "10 --- 4.369654303665845\n",
      "11 --- 2.208341258584075\n",
      "12 --- 566.1909055769335\n",
      "12 --- 1.0006593766842489\n",
      "13 --- 1.9695830645742576\n",
      "14 --- 7.841218783259259\n",
      "14 --- 5.247703415624753\n"
     ]
    },
    {
     "name": "stderr",
     "output_type": "stream",
     "text": [
      "C:\\Users\\Harshali\\anaconda3\\new_conda\\Lib\\site-packages\\statsmodels\\stats\\outliers_influence.py:197: RuntimeWarning: divide by zero encountered in scalar divide\n",
      "  vif = 1. / (1. - r_squared_i)\n"
     ]
    },
    {
     "name": "stdout",
     "output_type": "stream",
     "text": [
      "15 --- inf\n",
      "15 --- 7.377956585088553\n",
      "15 --- 1.4257933668144418\n",
      "16 --- 8.084822288044935\n",
      "16 --- 1.6226699218393812\n",
      "17 --- 7.238615905249871\n",
      "17 --- 15.645211505952748\n",
      "17 --- 1.8184084209088587\n",
      "18 --- 1.5055024528703032\n",
      "19 --- 2.1720129343912187\n",
      "20 --- 2.623539277547352\n",
      "21 --- 2.2929276257397024\n",
      "22 --- 7.3588119016168045\n",
      "22 --- 2.1583860086471636\n",
      "23 --- 2.8651983640201\n",
      "24 --- 6.457951397444763\n",
      "24 --- 2.846406166026212\n",
      "25 --- 4.751462405159283\n",
      "26 --- 16.664353050297613\n",
      "26 --- 6.433862464128575\n",
      "26 --- 8.90569527930927\n",
      "26 --- 2.394843877692056\n",
      "27 --- 8.625154493499016\n",
      "27 --- 13.097583499300075\n",
      "27 --- 3.5102775257188883\n",
      "28 --- 1.8461247374915497\n",
      "29 --- 18.35043652870675\n",
      "29 --- 10.708249343242189\n",
      "29 --- 2.3460067597985903\n",
      "30 --- 21.54248963193387\n",
      "30 --- 2.796240194688435\n",
      "31 --- 3.3738625526342503\n",
      "32 --- 9.973017265651695\n",
      "32 --- 6.092683218698287\n",
      "32 --- 1.0011742340538428\n",
      "33 --- 3.0642351806835495\n",
      "34 --- 2.807411739205449\n",
      "35 --- 20.28118581063136\n",
      "35 --- 15.881630139889586\n",
      "35 --- 1.8328052344483372\n",
      "36 --- 1.5682347319653958\n",
      "37 --- 1.8780555342424192\n",
      "38 --- 4.3267589683233965\n",
      "39 --- 10.843732672072079\n"
     ]
    }
   ],
   "source": [
    "# Perform VIF (Variance Inflation Factor) sequentially to identify highly correlated features\n",
    "\n",
    "# Iterate over each column\n",
    "for i in range(total_columns):\n",
    "    # Calculate VIF value for the current column\n",
    "    vif_value = variance_inflation_factor(vif_data, column_index)\n",
    "    \n",
    "    # Print the column index and VIF value\n",
    "    print(column_index, '---', vif_value)\n",
    "    \n",
    "    # Check if VIF value is acceptable (less than or equal to 6)\n",
    "    if vif_value <= 6:\n",
    "        # If acceptable, add the column to the list of columns to be kept\n",
    "        columns_to_be_kept.append(numeric_columns[i])\n",
    "        \n",
    "        # Increment the column index\n",
    "        column_index += 1\n",
    "    \n",
    "    else:\n",
    "        # If not acceptable, drop the column from the DataFrame\n",
    "        vif_data = vif_data.drop([numeric_columns[i]], axis=1)"
   ]
  },
  {
   "cell_type": "code",
   "execution_count": 26,
   "id": "0dee03e2-4978-4a8e-a435-b0aa1c89d6ad",
   "metadata": {},
   "outputs": [
    {
     "data": {
      "text/plain": [
       "39"
      ]
     },
     "execution_count": 26,
     "metadata": {},
     "output_type": "execute_result"
    }
   ],
   "source": [
    "len(columns_to_be_kept)   # { 72 = > 39 }"
   ]
  },
  {
   "cell_type": "code",
   "execution_count": 27,
   "id": "ba36a3f3-dba6-474f-be7b-8381461c67dc",
   "metadata": {},
   "outputs": [
    {
     "name": "stdout",
     "output_type": "stream",
     "text": [
      "\u001b[34mpct_tl_open_L6M\u001b[0m has a \u001b[32msignificant relationship\u001b[0m with the target feature (Approved_Flag).\n",
      "_______________________________________________________________________________\n",
      "\u001b[34mpct_tl_closed_L6M\u001b[0m has a \u001b[32msignificant relationship\u001b[0m with the target feature (Approved_Flag).\n",
      "_______________________________________________________________________________\n",
      "\u001b[34mTot_TL_closed_L12M\u001b[0m has a \u001b[32msignificant relationship\u001b[0m with the target feature (Approved_Flag).\n",
      "_______________________________________________________________________________\n",
      "\u001b[34mpct_tl_open_L12M\u001b[0m has a \u001b[32msignificant relationship\u001b[0m with the target feature (Approved_Flag).\n",
      "_______________________________________________________________________________\n",
      "\u001b[34mpct_tl_closed_L12M\u001b[0m has a \u001b[32msignificant relationship\u001b[0m with the target feature (Approved_Flag).\n",
      "_______________________________________________________________________________\n",
      "\u001b[34mTot_Missed_Pmnt\u001b[0m has a \u001b[32msignificant relationship\u001b[0m with the target feature (Approved_Flag).\n",
      "_______________________________________________________________________________\n",
      "\u001b[34mCC_TL\u001b[0m has a \u001b[32msignificant relationship\u001b[0m with the target feature (Approved_Flag).\n",
      "_______________________________________________________________________________\n",
      "\u001b[34mHome_TL\u001b[0m has a \u001b[32msignificant relationship\u001b[0m with the target feature (Approved_Flag).\n",
      "_______________________________________________________________________________\n",
      "\u001b[34mPL_TL\u001b[0m has a \u001b[32msignificant relationship\u001b[0m with the target feature (Approved_Flag).\n",
      "_______________________________________________________________________________\n",
      "\u001b[34mSecured_TL\u001b[0m has a \u001b[32msignificant relationship\u001b[0m with the target feature (Approved_Flag).\n",
      "_______________________________________________________________________________\n",
      "\u001b[34mUnsecured_TL\u001b[0m has a \u001b[32msignificant relationship\u001b[0m with the target feature (Approved_Flag).\n",
      "_______________________________________________________________________________\n",
      "\u001b[34mOther_TL\u001b[0m has a \u001b[32msignificant relationship\u001b[0m with the target feature (Approved_Flag).\n",
      "_______________________________________________________________________________\n",
      "\u001b[34mAge_Newest_TL\u001b[0m does not have a \u001b[31msignificant relationship\u001b[0m with the target feature (Approved_Flag).\n",
      "_______________________________________________________________________________\n",
      "\u001b[34mtime_since_recent_payment\u001b[0m has a \u001b[32msignificant relationship\u001b[0m with the target feature (Approved_Flag).\n",
      "_______________________________________________________________________________\n",
      "\u001b[34mmax_recent_level_of_deliq\u001b[0m has a \u001b[32msignificant relationship\u001b[0m with the target feature (Approved_Flag).\n",
      "_______________________________________________________________________________\n",
      "\u001b[34mnum_deliq_6_12mts\u001b[0m has a \u001b[32msignificant relationship\u001b[0m with the target feature (Approved_Flag).\n",
      "_______________________________________________________________________________\n",
      "\u001b[34mnum_times_60p_dpd\u001b[0m has a \u001b[32msignificant relationship\u001b[0m with the target feature (Approved_Flag).\n",
      "_______________________________________________________________________________\n",
      "\u001b[34mnum_std_12mts\u001b[0m has a \u001b[32msignificant relationship\u001b[0m with the target feature (Approved_Flag).\n",
      "_______________________________________________________________________________\n",
      "\u001b[34mnum_sub\u001b[0m has a \u001b[32msignificant relationship\u001b[0m with the target feature (Approved_Flag).\n",
      "_______________________________________________________________________________\n",
      "\u001b[34mnum_sub_6mts\u001b[0m has a \u001b[32msignificant relationship\u001b[0m with the target feature (Approved_Flag).\n",
      "_______________________________________________________________________________\n",
      "\u001b[34mnum_sub_12mts\u001b[0m has a \u001b[32msignificant relationship\u001b[0m with the target feature (Approved_Flag).\n",
      "_______________________________________________________________________________\n",
      "\u001b[34mnum_dbt\u001b[0m has a \u001b[32msignificant relationship\u001b[0m with the target feature (Approved_Flag).\n",
      "_______________________________________________________________________________\n",
      "\u001b[34mnum_dbt_12mts\u001b[0m has a \u001b[32msignificant relationship\u001b[0m with the target feature (Approved_Flag).\n",
      "_______________________________________________________________________________\n",
      "\u001b[34mnum_lss\u001b[0m has a \u001b[32msignificant relationship\u001b[0m with the target feature (Approved_Flag).\n",
      "_______________________________________________________________________________\n",
      "\u001b[34mnum_lss_12mts\u001b[0m does not have a \u001b[31msignificant relationship\u001b[0m with the target feature (Approved_Flag).\n",
      "_______________________________________________________________________________\n",
      "\u001b[34mrecent_level_of_deliq\u001b[0m has a \u001b[32msignificant relationship\u001b[0m with the target feature (Approved_Flag).\n",
      "_______________________________________________________________________________\n",
      "\u001b[34mCC_enq_L12m\u001b[0m has a \u001b[32msignificant relationship\u001b[0m with the target feature (Approved_Flag).\n",
      "_______________________________________________________________________________\n",
      "\u001b[34mPL_enq_L12m\u001b[0m has a \u001b[32msignificant relationship\u001b[0m with the target feature (Approved_Flag).\n",
      "_______________________________________________________________________________\n",
      "\u001b[34mtime_since_recent_enq\u001b[0m has a \u001b[32msignificant relationship\u001b[0m with the target feature (Approved_Flag).\n",
      "_______________________________________________________________________________\n",
      "\u001b[34menq_L3m\u001b[0m has a \u001b[32msignificant relationship\u001b[0m with the target feature (Approved_Flag).\n",
      "_______________________________________________________________________________\n",
      "\u001b[34mNETMONTHLYINCOME\u001b[0m has a \u001b[32msignificant relationship\u001b[0m with the target feature (Approved_Flag).\n",
      "_______________________________________________________________________________\n",
      "\u001b[34mTime_With_Curr_Empr\u001b[0m has a \u001b[32msignificant relationship\u001b[0m with the target feature (Approved_Flag).\n",
      "_______________________________________________________________________________\n",
      "\u001b[34mpct_currentBal_all_TL\u001b[0m does not have a \u001b[31msignificant relationship\u001b[0m with the target feature (Approved_Flag).\n",
      "_______________________________________________________________________________\n",
      "\u001b[34mCC_Flag\u001b[0m has a \u001b[32msignificant relationship\u001b[0m with the target feature (Approved_Flag).\n",
      "_______________________________________________________________________________\n",
      "\u001b[34mPL_Flag\u001b[0m has a \u001b[32msignificant relationship\u001b[0m with the target feature (Approved_Flag).\n",
      "_______________________________________________________________________________\n",
      "\u001b[34mpct_PL_enq_L6m_of_ever\u001b[0m has a \u001b[32msignificant relationship\u001b[0m with the target feature (Approved_Flag).\n",
      "_______________________________________________________________________________\n",
      "\u001b[34mpct_CC_enq_L6m_of_ever\u001b[0m has a \u001b[32msignificant relationship\u001b[0m with the target feature (Approved_Flag).\n",
      "_______________________________________________________________________________\n",
      "\u001b[34mHL_Flag\u001b[0m has a \u001b[32msignificant relationship\u001b[0m with the target feature (Approved_Flag).\n",
      "_______________________________________________________________________________\n",
      "\u001b[34mGL_Flag\u001b[0m has a \u001b[32msignificant relationship\u001b[0m with the target feature (Approved_Flag).\n",
      "_______________________________________________________________________________\n"
     ]
    }
   ],
   "source": [
    "# Perform ANOVA for columns_to_be_kept\n",
    "\n",
    "from scipy.stats import f_oneway\n",
    "\n",
    "columns_to_be_kept_numerical = []\n",
    "\n",
    "for column in columns_to_be_kept:\n",
    "    # Split data into groups based on 'Approved_Flag'\n",
    "    groups = [df.loc[df['Approved_Flag'] == flag, column] for flag in ['P1', 'P2', 'P3', 'P4']]\n",
    "    \n",
    "    # Perform ANOVA\n",
    "    f_statistic, p_value = f_oneway(*groups)\n",
    "    \n",
    "    # Decision making based on p-values\n",
    "    if p_value <= 0.05:\n",
    "        print(f\"\\033[34m{column}\\033[0m has a \\033[32msignificant relationship\\033[0m with the target feature (Approved_Flag).\")\n",
    "        columns_to_be_kept_numerical.append(column)\n",
    "    else:\n",
    "        print(f\"\\033[34m{column}\\033[0m does not have a \\033[31msignificant relationship\\033[0m with the target feature (Approved_Flag).\")\n",
    "    print(\"_______________________________________________________________________________\")"
   ]
  },
  {
   "cell_type": "code",
   "execution_count": 28,
   "id": "23e70e09-1e2a-49a6-bf8c-3ef7b00c04de",
   "metadata": {},
   "outputs": [
    {
     "data": {
      "text/plain": [
       "36"
      ]
     },
     "execution_count": 28,
     "metadata": {},
     "output_type": "execute_result"
    }
   ],
   "source": [
    "len(columns_to_be_kept_numerical)"
   ]
  },
  {
   "cell_type": "markdown",
   "id": "8d549030-073f-4411-8b25-a906296e666a",
   "metadata": {},
   "source": [
    "--------------------------------------------------------------------------------------------------------------------------"
   ]
  },
  {
   "cell_type": "markdown",
   "id": "0d57abbd-b9bf-408e-abce-3ad727ace03d",
   "metadata": {},
   "source": [
    " 39=>36 "
   ]
  },
  {
   "cell_type": "code",
   "execution_count": 35,
   "id": "e9437e96-7aca-46bf-b23d-da6ce2149718",
   "metadata": {},
   "outputs": [
    {
     "data": {
      "text/plain": [
       "array(['12TH', 'GRADUATE', 'SSC', 'POST-GRADUATE', 'UNDER GRADUATE',\n",
       "       'OTHERS', 'PROFESSIONAL'], dtype=object)"
      ]
     },
     "execution_count": 35,
     "metadata": {},
     "output_type": "execute_result"
    }
   ],
   "source": [
    "df['EDUCATION'].unique()"
   ]
  },
  {
   "cell_type": "raw",
   "id": "104a1b05-f7e7-41ea-8e7c-a3f80babeea6",
   "metadata": {},
   "source": [
    "df.loc[df['EDUCATION'] == 'SSC',['EDUCATION']]              = 1\n",
    "df.loc[df['EDUCATION'] == '12TH',['EDUCATION']]             = 2\n",
    "df.loc[df['EDUCATION'] == 'GRADUATE',['EDUCATION']]         = 3\n",
    "df.loc[df['EDUCATION'] == 'UNDER GRADUATE',['EDUCATION']]   = 3\n",
    "df.loc[df['EDUCATION'] == 'POST-GRADUATE',['EDUCATION']]    = 4\n",
    "df.loc[df['EDUCATION'] == 'OTHERS',['EDUCATION']]           = 1\n",
    "df.loc[df['EDUCATION'] == 'PROFESSIONAL',['EDUCATION']]     = 3"
   ]
  },
  {
   "cell_type": "code",
   "execution_count": 36,
   "id": "36db20d5-daca-46ce-a956-e9550cebb363",
   "metadata": {},
   "outputs": [
    {
     "name": "stdout",
     "output_type": "stream",
     "text": [
      "Index(['MARITALSTATUS', 'EDUCATION', 'GENDER', 'last_prod_enq2',\n",
      "       'first_prod_enq2', 'Approved_Flag'],\n",
      "      dtype='object')\n"
     ]
    }
   ],
   "source": [
    "# To filter only the categorical columns (object or category dtype)\n",
    "categorical_columns = df.select_dtypes(include=['object', 'category']).columns\n",
    "\n",
    "# Display all categorical columns\n",
    "print(categorical_columns)"
   ]
  },
  {
   "cell_type": "code",
   "execution_count": 37,
   "id": "cf58be1c-8c56-415d-9cf0-f142779233ca",
   "metadata": {},
   "outputs": [
    {
     "data": {
      "text/plain": [
       "6"
      ]
     },
     "execution_count": 37,
     "metadata": {},
     "output_type": "execute_result"
    }
   ],
   "source": [
    "len(categorical_columns)"
   ]
  },
  {
   "cell_type": "code",
   "execution_count": 38,
   "id": "aa5c008c-f9d0-4e43-80ae-eb7c00fdee91",
   "metadata": {},
   "outputs": [],
   "source": [
    "# total_requrd colums = 42 ( consider output column also)"
   ]
  },
  {
   "cell_type": "markdown",
   "id": "2991d02d-533a-4819-8789-fa5aaa1a4fcd",
   "metadata": {},
   "source": [
    "-------------------------------------------------------------------------------------------------------------------------------------"
   ]
  },
  {
   "cell_type": "code",
   "execution_count": 39,
   "id": "d493d5c6-bcf1-4ff7-8c43-81688ba3c999",
   "metadata": {},
   "outputs": [],
   "source": [
    "# listing all the final features\n",
    "features = columns_to_be_kept_numerical + ['MARITALSTATUS', 'EDUCATION', 'GENDER', 'last_prod_enq2', 'first_prod_enq2']\n",
    "df = df[features + ['Approved_Flag']]"
   ]
  },
  {
   "cell_type": "code",
   "execution_count": 40,
   "id": "2a6fd032-9c3a-4526-a6ff-94b8149bd3a4",
   "metadata": {},
   "outputs": [
    {
     "data": {
      "text/plain": [
       "42"
      ]
     },
     "execution_count": 40,
     "metadata": {},
     "output_type": "execute_result"
    }
   ],
   "source": [
    "len(df.columns)"
   ]
  },
  {
   "cell_type": "code",
   "execution_count": null,
   "id": "354d4c6c-cb71-469a-ae1d-981c2edfc31d",
   "metadata": {},
   "outputs": [],
   "source": [
    "# Save the merged DataFrame to an Excel file\n",
    "df.to_excel('Data_file.xlsx', index=False)\n"
   ]
  },
  {
   "cell_type": "markdown",
   "id": "036d08f9-0595-4c03-aae4-79b88c43711b",
   "metadata": {},
   "source": [
    "-------------------------------------------------------------------------------------------------------------------------------------------"
   ]
  },
  {
   "cell_type": "code",
   "execution_count": 41,
   "id": "ef196522-6fe8-44b7-a17b-40fb76ac0e36",
   "metadata": {},
   "outputs": [],
   "source": [
    "df1=pd.read_excel('Data_file.xlsx')"
   ]
  },
  {
   "cell_type": "code",
   "execution_count": 42,
   "id": "88cd4440-50e1-40f9-899c-159aba27fe1f",
   "metadata": {},
   "outputs": [
    {
     "data": {
      "text/plain": [
       "Index(['pct_tl_open_L6M', 'pct_tl_closed_L6M', 'Tot_TL_closed_L12M',\n",
       "       'pct_tl_open_L12M', 'pct_tl_closed_L12M', 'Tot_Missed_Pmnt', 'CC_TL',\n",
       "       'Home_TL', 'PL_TL', 'Secured_TL', 'Unsecured_TL', 'Other_TL',\n",
       "       'time_since_recent_payment', 'max_recent_level_of_deliq',\n",
       "       'num_deliq_6_12mts', 'num_times_60p_dpd', 'num_std_12mts', 'num_sub',\n",
       "       'num_sub_6mts', 'num_sub_12mts', 'num_dbt', 'num_dbt_12mts', 'num_lss',\n",
       "       'recent_level_of_deliq', 'CC_enq_L12m', 'PL_enq_L12m',\n",
       "       'time_since_recent_enq', 'enq_L3m', 'NETMONTHLYINCOME',\n",
       "       'Time_With_Curr_Empr', 'CC_Flag', 'PL_Flag', 'pct_PL_enq_L6m_of_ever',\n",
       "       'pct_CC_enq_L6m_of_ever', 'HL_Flag', 'GL_Flag', 'MARITALSTATUS',\n",
       "       'EDUCATION', 'GENDER', 'last_prod_enq2', 'first_prod_enq2',\n",
       "       'Approved_Flag'],\n",
       "      dtype='object')"
      ]
     },
     "execution_count": 42,
     "metadata": {},
     "output_type": "execute_result"
    }
   ],
   "source": [
    "df1.columns"
   ]
  },
  {
   "cell_type": "markdown",
   "id": "960ee12b-76e2-4f2a-be6e-67ccc65047a2",
   "metadata": {},
   "source": [
    "----------------------------------------------------------------------------------------------------------------------------------------------------"
   ]
  },
  {
   "cell_type": "code",
   "execution_count": 43,
   "id": "843c8b73-ae67-44d9-a235-cde825f19fe0",
   "metadata": {},
   "outputs": [
    {
     "data": {
      "text/html": [
       "<div>\n",
       "<style scoped>\n",
       "    .dataframe tbody tr th:only-of-type {\n",
       "        vertical-align: middle;\n",
       "    }\n",
       "\n",
       "    .dataframe tbody tr th {\n",
       "        vertical-align: top;\n",
       "    }\n",
       "\n",
       "    .dataframe thead th {\n",
       "        text-align: right;\n",
       "    }\n",
       "</style>\n",
       "<table border=\"1\" class=\"dataframe\">\n",
       "  <thead>\n",
       "    <tr style=\"text-align: right;\">\n",
       "      <th></th>\n",
       "      <th>pct_tl_open_L6M</th>\n",
       "      <th>pct_tl_closed_L6M</th>\n",
       "      <th>Tot_TL_closed_L12M</th>\n",
       "      <th>pct_tl_open_L12M</th>\n",
       "      <th>pct_tl_closed_L12M</th>\n",
       "      <th>Tot_Missed_Pmnt</th>\n",
       "      <th>CC_TL</th>\n",
       "      <th>Home_TL</th>\n",
       "      <th>PL_TL</th>\n",
       "      <th>Secured_TL</th>\n",
       "      <th>...</th>\n",
       "      <th>pct_PL_enq_L6m_of_ever</th>\n",
       "      <th>pct_CC_enq_L6m_of_ever</th>\n",
       "      <th>HL_Flag</th>\n",
       "      <th>GL_Flag</th>\n",
       "      <th>MARITALSTATUS</th>\n",
       "      <th>EDUCATION</th>\n",
       "      <th>GENDER</th>\n",
       "      <th>last_prod_enq2</th>\n",
       "      <th>first_prod_enq2</th>\n",
       "      <th>Predictions</th>\n",
       "    </tr>\n",
       "  </thead>\n",
       "  <tbody>\n",
       "    <tr>\n",
       "      <th>0</th>\n",
       "      <td>0.000</td>\n",
       "      <td>0.0</td>\n",
       "      <td>0</td>\n",
       "      <td>0.000</td>\n",
       "      <td>0.000</td>\n",
       "      <td>0</td>\n",
       "      <td>0</td>\n",
       "      <td>0</td>\n",
       "      <td>4</td>\n",
       "      <td>1</td>\n",
       "      <td>...</td>\n",
       "      <td>0.000</td>\n",
       "      <td>0.0</td>\n",
       "      <td>1</td>\n",
       "      <td>0</td>\n",
       "      <td>Married</td>\n",
       "      <td>12TH</td>\n",
       "      <td>M</td>\n",
       "      <td>PL</td>\n",
       "      <td>PL</td>\n",
       "      <td>1</td>\n",
       "    </tr>\n",
       "    <tr>\n",
       "      <th>1</th>\n",
       "      <td>0.000</td>\n",
       "      <td>0.0</td>\n",
       "      <td>0</td>\n",
       "      <td>1.000</td>\n",
       "      <td>0.000</td>\n",
       "      <td>0</td>\n",
       "      <td>0</td>\n",
       "      <td>0</td>\n",
       "      <td>0</td>\n",
       "      <td>0</td>\n",
       "      <td>...</td>\n",
       "      <td>0.000</td>\n",
       "      <td>0.0</td>\n",
       "      <td>0</td>\n",
       "      <td>0</td>\n",
       "      <td>Single</td>\n",
       "      <td>GRADUATE</td>\n",
       "      <td>F</td>\n",
       "      <td>ConsumerLoan</td>\n",
       "      <td>ConsumerLoan</td>\n",
       "      <td>1</td>\n",
       "    </tr>\n",
       "    <tr>\n",
       "      <th>2</th>\n",
       "      <td>0.125</td>\n",
       "      <td>0.0</td>\n",
       "      <td>0</td>\n",
       "      <td>0.250</td>\n",
       "      <td>0.000</td>\n",
       "      <td>1</td>\n",
       "      <td>0</td>\n",
       "      <td>0</td>\n",
       "      <td>0</td>\n",
       "      <td>2</td>\n",
       "      <td>...</td>\n",
       "      <td>0.000</td>\n",
       "      <td>0.0</td>\n",
       "      <td>1</td>\n",
       "      <td>0</td>\n",
       "      <td>Married</td>\n",
       "      <td>SSC</td>\n",
       "      <td>M</td>\n",
       "      <td>ConsumerLoan</td>\n",
       "      <td>others</td>\n",
       "      <td>1</td>\n",
       "    </tr>\n",
       "    <tr>\n",
       "      <th>3</th>\n",
       "      <td>0.000</td>\n",
       "      <td>0.0</td>\n",
       "      <td>0</td>\n",
       "      <td>0.167</td>\n",
       "      <td>0.000</td>\n",
       "      <td>0</td>\n",
       "      <td>0</td>\n",
       "      <td>0</td>\n",
       "      <td>0</td>\n",
       "      <td>3</td>\n",
       "      <td>...</td>\n",
       "      <td>0.000</td>\n",
       "      <td>0.0</td>\n",
       "      <td>0</td>\n",
       "      <td>0</td>\n",
       "      <td>Married</td>\n",
       "      <td>POST-GRADUATE</td>\n",
       "      <td>M</td>\n",
       "      <td>AL</td>\n",
       "      <td>AL</td>\n",
       "      <td>0</td>\n",
       "    </tr>\n",
       "    <tr>\n",
       "      <th>4</th>\n",
       "      <td>0.000</td>\n",
       "      <td>0.0</td>\n",
       "      <td>1</td>\n",
       "      <td>0.429</td>\n",
       "      <td>0.167</td>\n",
       "      <td>0</td>\n",
       "      <td>0</td>\n",
       "      <td>0</td>\n",
       "      <td>0</td>\n",
       "      <td>6</td>\n",
       "      <td>...</td>\n",
       "      <td>0.429</td>\n",
       "      <td>0.0</td>\n",
       "      <td>1</td>\n",
       "      <td>0</td>\n",
       "      <td>Married</td>\n",
       "      <td>12TH</td>\n",
       "      <td>M</td>\n",
       "      <td>ConsumerLoan</td>\n",
       "      <td>PL</td>\n",
       "      <td>3</td>\n",
       "    </tr>\n",
       "    <tr>\n",
       "      <th>...</th>\n",
       "      <td>...</td>\n",
       "      <td>...</td>\n",
       "      <td>...</td>\n",
       "      <td>...</td>\n",
       "      <td>...</td>\n",
       "      <td>...</td>\n",
       "      <td>...</td>\n",
       "      <td>...</td>\n",
       "      <td>...</td>\n",
       "      <td>...</td>\n",
       "      <td>...</td>\n",
       "      <td>...</td>\n",
       "      <td>...</td>\n",
       "      <td>...</td>\n",
       "      <td>...</td>\n",
       "      <td>...</td>\n",
       "      <td>...</td>\n",
       "      <td>...</td>\n",
       "      <td>...</td>\n",
       "      <td>...</td>\n",
       "      <td>...</td>\n",
       "    </tr>\n",
       "    <tr>\n",
       "      <th>95</th>\n",
       "      <td>0.000</td>\n",
       "      <td>0.0</td>\n",
       "      <td>0</td>\n",
       "      <td>0.152</td>\n",
       "      <td>0.000</td>\n",
       "      <td>0</td>\n",
       "      <td>0</td>\n",
       "      <td>0</td>\n",
       "      <td>1</td>\n",
       "      <td>1</td>\n",
       "      <td>...</td>\n",
       "      <td>0.000</td>\n",
       "      <td>0.0</td>\n",
       "      <td>0</td>\n",
       "      <td>0</td>\n",
       "      <td>Married</td>\n",
       "      <td>GRADUATE</td>\n",
       "      <td>M</td>\n",
       "      <td>ConsumerLoan</td>\n",
       "      <td>others</td>\n",
       "      <td>1</td>\n",
       "    </tr>\n",
       "    <tr>\n",
       "      <th>96</th>\n",
       "      <td>0.222</td>\n",
       "      <td>0.0</td>\n",
       "      <td>2</td>\n",
       "      <td>0.538</td>\n",
       "      <td>0.222</td>\n",
       "      <td>0</td>\n",
       "      <td>0</td>\n",
       "      <td>0</td>\n",
       "      <td>0</td>\n",
       "      <td>1</td>\n",
       "      <td>...</td>\n",
       "      <td>0.000</td>\n",
       "      <td>0.0</td>\n",
       "      <td>0</td>\n",
       "      <td>0</td>\n",
       "      <td>Married</td>\n",
       "      <td>12TH</td>\n",
       "      <td>M</td>\n",
       "      <td>ConsumerLoan</td>\n",
       "      <td>others</td>\n",
       "      <td>1</td>\n",
       "    </tr>\n",
       "    <tr>\n",
       "      <th>97</th>\n",
       "      <td>0.000</td>\n",
       "      <td>0.0</td>\n",
       "      <td>0</td>\n",
       "      <td>0.211</td>\n",
       "      <td>0.000</td>\n",
       "      <td>0</td>\n",
       "      <td>0</td>\n",
       "      <td>0</td>\n",
       "      <td>0</td>\n",
       "      <td>1</td>\n",
       "      <td>...</td>\n",
       "      <td>0.000</td>\n",
       "      <td>0.0</td>\n",
       "      <td>0</td>\n",
       "      <td>0</td>\n",
       "      <td>Married</td>\n",
       "      <td>SSC</td>\n",
       "      <td>M</td>\n",
       "      <td>others</td>\n",
       "      <td>others</td>\n",
       "      <td>1</td>\n",
       "    </tr>\n",
       "    <tr>\n",
       "      <th>98</th>\n",
       "      <td>0.000</td>\n",
       "      <td>1.0</td>\n",
       "      <td>1</td>\n",
       "      <td>0.396</td>\n",
       "      <td>1.000</td>\n",
       "      <td>0</td>\n",
       "      <td>0</td>\n",
       "      <td>0</td>\n",
       "      <td>0</td>\n",
       "      <td>1</td>\n",
       "      <td>...</td>\n",
       "      <td>0.000</td>\n",
       "      <td>0.0</td>\n",
       "      <td>0</td>\n",
       "      <td>0</td>\n",
       "      <td>Married</td>\n",
       "      <td>12TH</td>\n",
       "      <td>M</td>\n",
       "      <td>others</td>\n",
       "      <td>others</td>\n",
       "      <td>1</td>\n",
       "    </tr>\n",
       "    <tr>\n",
       "      <th>99</th>\n",
       "      <td>0.500</td>\n",
       "      <td>0.0</td>\n",
       "      <td>0</td>\n",
       "      <td>0.353</td>\n",
       "      <td>0.000</td>\n",
       "      <td>0</td>\n",
       "      <td>0</td>\n",
       "      <td>0</td>\n",
       "      <td>0</td>\n",
       "      <td>1</td>\n",
       "      <td>...</td>\n",
       "      <td>1.000</td>\n",
       "      <td>0.0</td>\n",
       "      <td>0</td>\n",
       "      <td>0</td>\n",
       "      <td>Married</td>\n",
       "      <td>OTHERS</td>\n",
       "      <td>M</td>\n",
       "      <td>others</td>\n",
       "      <td>others</td>\n",
       "      <td>1</td>\n",
       "    </tr>\n",
       "  </tbody>\n",
       "</table>\n",
       "<p>100 rows × 42 columns</p>\n",
       "</div>"
      ],
      "text/plain": [
       "    pct_tl_open_L6M  pct_tl_closed_L6M  Tot_TL_closed_L12M  pct_tl_open_L12M  \\\n",
       "0             0.000                0.0                   0             0.000   \n",
       "1             0.000                0.0                   0             1.000   \n",
       "2             0.125                0.0                   0             0.250   \n",
       "3             0.000                0.0                   0             0.167   \n",
       "4             0.000                0.0                   1             0.429   \n",
       "..              ...                ...                 ...               ...   \n",
       "95            0.000                0.0                   0             0.152   \n",
       "96            0.222                0.0                   2             0.538   \n",
       "97            0.000                0.0                   0             0.211   \n",
       "98            0.000                1.0                   1             0.396   \n",
       "99            0.500                0.0                   0             0.353   \n",
       "\n",
       "    pct_tl_closed_L12M  Tot_Missed_Pmnt  CC_TL  Home_TL  PL_TL  Secured_TL  \\\n",
       "0                0.000                0      0        0      4           1   \n",
       "1                0.000                0      0        0      0           0   \n",
       "2                0.000                1      0        0      0           2   \n",
       "3                0.000                0      0        0      0           3   \n",
       "4                0.167                0      0        0      0           6   \n",
       "..                 ...              ...    ...      ...    ...         ...   \n",
       "95               0.000                0      0        0      1           1   \n",
       "96               0.222                0      0        0      0           1   \n",
       "97               0.000                0      0        0      0           1   \n",
       "98               1.000                0      0        0      0           1   \n",
       "99               0.000                0      0        0      0           1   \n",
       "\n",
       "    ...  pct_PL_enq_L6m_of_ever  pct_CC_enq_L6m_of_ever  HL_Flag  GL_Flag  \\\n",
       "0   ...                   0.000                     0.0        1        0   \n",
       "1   ...                   0.000                     0.0        0        0   \n",
       "2   ...                   0.000                     0.0        1        0   \n",
       "3   ...                   0.000                     0.0        0        0   \n",
       "4   ...                   0.429                     0.0        1        0   \n",
       "..  ...                     ...                     ...      ...      ...   \n",
       "95  ...                   0.000                     0.0        0        0   \n",
       "96  ...                   0.000                     0.0        0        0   \n",
       "97  ...                   0.000                     0.0        0        0   \n",
       "98  ...                   0.000                     0.0        0        0   \n",
       "99  ...                   1.000                     0.0        0        0   \n",
       "\n",
       "    MARITALSTATUS      EDUCATION  GENDER  last_prod_enq2  first_prod_enq2  \\\n",
       "0         Married           12TH       M              PL               PL   \n",
       "1          Single       GRADUATE       F    ConsumerLoan     ConsumerLoan   \n",
       "2         Married            SSC       M    ConsumerLoan           others   \n",
       "3         Married  POST-GRADUATE       M              AL               AL   \n",
       "4         Married           12TH       M    ConsumerLoan               PL   \n",
       "..            ...            ...     ...             ...              ...   \n",
       "95        Married       GRADUATE       M    ConsumerLoan           others   \n",
       "96        Married           12TH       M    ConsumerLoan           others   \n",
       "97        Married            SSC       M          others           others   \n",
       "98        Married           12TH       M          others           others   \n",
       "99        Married         OTHERS       M          others           others   \n",
       "\n",
       "    Predictions  \n",
       "0             1  \n",
       "1             1  \n",
       "2             1  \n",
       "3             0  \n",
       "4             3  \n",
       "..          ...  \n",
       "95            1  \n",
       "96            1  \n",
       "97            1  \n",
       "98            1  \n",
       "99            1  \n",
       "\n",
       "[100 rows x 42 columns]"
      ]
     },
     "execution_count": 43,
     "metadata": {},
     "output_type": "execute_result"
    }
   ],
   "source": [
    "pd.read_excel('Updated_Unseen_Dataset1.xlsx')"
   ]
  },
  {
   "cell_type": "markdown",
   "id": "8a66f04f-4c5e-404a-8b26-fdbc9c07ef8f",
   "metadata": {},
   "source": [
    "---------------------------------------------------------------------------------------------------------------------------------------------"
   ]
  },
  {
   "cell_type": "code",
   "execution_count": null,
   "id": "24afe5ba-6fef-470a-882f-b72ceeae7267",
   "metadata": {},
   "outputs": [
    {
     "data": {
      "text/html": [
       "<div>\n",
       "<style scoped>\n",
       "    .dataframe tbody tr th:only-of-type {\n",
       "        vertical-align: middle;\n",
       "    }\n",
       "\n",
       "    .dataframe tbody tr th {\n",
       "        vertical-align: top;\n",
       "    }\n",
       "\n",
       "    .dataframe thead th {\n",
       "        text-align: right;\n",
       "    }\n",
       "</style>\n",
       "<table border=\"1\" class=\"dataframe\">\n",
       "  <thead>\n",
       "    <tr style=\"text-align: right;\">\n",
       "      <th></th>\n",
       "      <th>pct_tl_open_L6M</th>\n",
       "      <th>pct_tl_closed_L6M</th>\n",
       "      <th>Tot_TL_closed_L12M</th>\n",
       "      <th>pct_tl_open_L12M</th>\n",
       "      <th>pct_tl_closed_L12M</th>\n",
       "      <th>Tot_Missed_Pmnt</th>\n",
       "      <th>CC_TL</th>\n",
       "      <th>Home_TL</th>\n",
       "      <th>PL_TL</th>\n",
       "      <th>Secured_TL</th>\n",
       "      <th>...</th>\n",
       "      <th>pct_PL_enq_L6m_of_ever</th>\n",
       "      <th>pct_CC_enq_L6m_of_ever</th>\n",
       "      <th>HL_Flag</th>\n",
       "      <th>GL_Flag</th>\n",
       "      <th>MARITALSTATUS</th>\n",
       "      <th>EDUCATION</th>\n",
       "      <th>GENDER</th>\n",
       "      <th>last_prod_enq2</th>\n",
       "      <th>first_prod_enq2</th>\n",
       "      <th>Predictions</th>\n",
       "    </tr>\n",
       "  </thead>\n",
       "  <tbody>\n",
       "    <tr>\n",
       "      <th>0</th>\n",
       "      <td>0.000</td>\n",
       "      <td>0.0</td>\n",
       "      <td>0</td>\n",
       "      <td>0.000</td>\n",
       "      <td>0.000</td>\n",
       "      <td>0</td>\n",
       "      <td>0</td>\n",
       "      <td>0</td>\n",
       "      <td>4</td>\n",
       "      <td>1</td>\n",
       "      <td>...</td>\n",
       "      <td>0.000</td>\n",
       "      <td>0.0</td>\n",
       "      <td>1</td>\n",
       "      <td>0</td>\n",
       "      <td>Married</td>\n",
       "      <td>12TH</td>\n",
       "      <td>M</td>\n",
       "      <td>PL</td>\n",
       "      <td>PL</td>\n",
       "      <td>P2</td>\n",
       "    </tr>\n",
       "    <tr>\n",
       "      <th>1</th>\n",
       "      <td>0.000</td>\n",
       "      <td>0.0</td>\n",
       "      <td>0</td>\n",
       "      <td>1.000</td>\n",
       "      <td>0.000</td>\n",
       "      <td>0</td>\n",
       "      <td>0</td>\n",
       "      <td>0</td>\n",
       "      <td>0</td>\n",
       "      <td>0</td>\n",
       "      <td>...</td>\n",
       "      <td>0.000</td>\n",
       "      <td>0.0</td>\n",
       "      <td>0</td>\n",
       "      <td>0</td>\n",
       "      <td>Single</td>\n",
       "      <td>GRADUATE</td>\n",
       "      <td>F</td>\n",
       "      <td>ConsumerLoan</td>\n",
       "      <td>ConsumerLoan</td>\n",
       "      <td>P2</td>\n",
       "    </tr>\n",
       "    <tr>\n",
       "      <th>2</th>\n",
       "      <td>0.125</td>\n",
       "      <td>0.0</td>\n",
       "      <td>0</td>\n",
       "      <td>0.250</td>\n",
       "      <td>0.000</td>\n",
       "      <td>1</td>\n",
       "      <td>0</td>\n",
       "      <td>0</td>\n",
       "      <td>0</td>\n",
       "      <td>2</td>\n",
       "      <td>...</td>\n",
       "      <td>0.000</td>\n",
       "      <td>0.0</td>\n",
       "      <td>1</td>\n",
       "      <td>0</td>\n",
       "      <td>Married</td>\n",
       "      <td>SSC</td>\n",
       "      <td>M</td>\n",
       "      <td>ConsumerLoan</td>\n",
       "      <td>others</td>\n",
       "      <td>P2</td>\n",
       "    </tr>\n",
       "    <tr>\n",
       "      <th>3</th>\n",
       "      <td>0.000</td>\n",
       "      <td>0.0</td>\n",
       "      <td>0</td>\n",
       "      <td>0.167</td>\n",
       "      <td>0.000</td>\n",
       "      <td>0</td>\n",
       "      <td>0</td>\n",
       "      <td>0</td>\n",
       "      <td>0</td>\n",
       "      <td>3</td>\n",
       "      <td>...</td>\n",
       "      <td>0.000</td>\n",
       "      <td>0.0</td>\n",
       "      <td>0</td>\n",
       "      <td>0</td>\n",
       "      <td>Married</td>\n",
       "      <td>POST-GRADUATE</td>\n",
       "      <td>M</td>\n",
       "      <td>AL</td>\n",
       "      <td>AL</td>\n",
       "      <td>P1</td>\n",
       "    </tr>\n",
       "    <tr>\n",
       "      <th>4</th>\n",
       "      <td>0.000</td>\n",
       "      <td>0.0</td>\n",
       "      <td>1</td>\n",
       "      <td>0.429</td>\n",
       "      <td>0.167</td>\n",
       "      <td>0</td>\n",
       "      <td>0</td>\n",
       "      <td>0</td>\n",
       "      <td>0</td>\n",
       "      <td>6</td>\n",
       "      <td>...</td>\n",
       "      <td>0.429</td>\n",
       "      <td>0.0</td>\n",
       "      <td>1</td>\n",
       "      <td>0</td>\n",
       "      <td>Married</td>\n",
       "      <td>12TH</td>\n",
       "      <td>M</td>\n",
       "      <td>ConsumerLoan</td>\n",
       "      <td>PL</td>\n",
       "      <td>P4</td>\n",
       "    </tr>\n",
       "    <tr>\n",
       "      <th>...</th>\n",
       "      <td>...</td>\n",
       "      <td>...</td>\n",
       "      <td>...</td>\n",
       "      <td>...</td>\n",
       "      <td>...</td>\n",
       "      <td>...</td>\n",
       "      <td>...</td>\n",
       "      <td>...</td>\n",
       "      <td>...</td>\n",
       "      <td>...</td>\n",
       "      <td>...</td>\n",
       "      <td>...</td>\n",
       "      <td>...</td>\n",
       "      <td>...</td>\n",
       "      <td>...</td>\n",
       "      <td>...</td>\n",
       "      <td>...</td>\n",
       "      <td>...</td>\n",
       "      <td>...</td>\n",
       "      <td>...</td>\n",
       "      <td>...</td>\n",
       "    </tr>\n",
       "    <tr>\n",
       "      <th>95</th>\n",
       "      <td>0.000</td>\n",
       "      <td>0.0</td>\n",
       "      <td>0</td>\n",
       "      <td>0.152</td>\n",
       "      <td>0.000</td>\n",
       "      <td>0</td>\n",
       "      <td>0</td>\n",
       "      <td>0</td>\n",
       "      <td>1</td>\n",
       "      <td>1</td>\n",
       "      <td>...</td>\n",
       "      <td>0.000</td>\n",
       "      <td>0.0</td>\n",
       "      <td>0</td>\n",
       "      <td>0</td>\n",
       "      <td>Married</td>\n",
       "      <td>GRADUATE</td>\n",
       "      <td>M</td>\n",
       "      <td>ConsumerLoan</td>\n",
       "      <td>others</td>\n",
       "      <td>P2</td>\n",
       "    </tr>\n",
       "    <tr>\n",
       "      <th>96</th>\n",
       "      <td>0.222</td>\n",
       "      <td>0.0</td>\n",
       "      <td>2</td>\n",
       "      <td>0.538</td>\n",
       "      <td>0.222</td>\n",
       "      <td>0</td>\n",
       "      <td>0</td>\n",
       "      <td>0</td>\n",
       "      <td>0</td>\n",
       "      <td>1</td>\n",
       "      <td>...</td>\n",
       "      <td>0.000</td>\n",
       "      <td>0.0</td>\n",
       "      <td>0</td>\n",
       "      <td>0</td>\n",
       "      <td>Married</td>\n",
       "      <td>12TH</td>\n",
       "      <td>M</td>\n",
       "      <td>ConsumerLoan</td>\n",
       "      <td>others</td>\n",
       "      <td>P2</td>\n",
       "    </tr>\n",
       "    <tr>\n",
       "      <th>97</th>\n",
       "      <td>0.000</td>\n",
       "      <td>0.0</td>\n",
       "      <td>0</td>\n",
       "      <td>0.211</td>\n",
       "      <td>0.000</td>\n",
       "      <td>0</td>\n",
       "      <td>0</td>\n",
       "      <td>0</td>\n",
       "      <td>0</td>\n",
       "      <td>1</td>\n",
       "      <td>...</td>\n",
       "      <td>0.000</td>\n",
       "      <td>0.0</td>\n",
       "      <td>0</td>\n",
       "      <td>0</td>\n",
       "      <td>Married</td>\n",
       "      <td>SSC</td>\n",
       "      <td>M</td>\n",
       "      <td>others</td>\n",
       "      <td>others</td>\n",
       "      <td>P2</td>\n",
       "    </tr>\n",
       "    <tr>\n",
       "      <th>98</th>\n",
       "      <td>0.000</td>\n",
       "      <td>1.0</td>\n",
       "      <td>1</td>\n",
       "      <td>0.396</td>\n",
       "      <td>1.000</td>\n",
       "      <td>0</td>\n",
       "      <td>0</td>\n",
       "      <td>0</td>\n",
       "      <td>0</td>\n",
       "      <td>1</td>\n",
       "      <td>...</td>\n",
       "      <td>0.000</td>\n",
       "      <td>0.0</td>\n",
       "      <td>0</td>\n",
       "      <td>0</td>\n",
       "      <td>Married</td>\n",
       "      <td>12TH</td>\n",
       "      <td>M</td>\n",
       "      <td>others</td>\n",
       "      <td>others</td>\n",
       "      <td>P2</td>\n",
       "    </tr>\n",
       "    <tr>\n",
       "      <th>99</th>\n",
       "      <td>0.500</td>\n",
       "      <td>0.0</td>\n",
       "      <td>0</td>\n",
       "      <td>0.353</td>\n",
       "      <td>0.000</td>\n",
       "      <td>0</td>\n",
       "      <td>0</td>\n",
       "      <td>0</td>\n",
       "      <td>0</td>\n",
       "      <td>1</td>\n",
       "      <td>...</td>\n",
       "      <td>1.000</td>\n",
       "      <td>0.0</td>\n",
       "      <td>0</td>\n",
       "      <td>0</td>\n",
       "      <td>Married</td>\n",
       "      <td>OTHERS</td>\n",
       "      <td>M</td>\n",
       "      <td>others</td>\n",
       "      <td>others</td>\n",
       "      <td>P2</td>\n",
       "    </tr>\n",
       "  </tbody>\n",
       "</table>\n",
       "<p>100 rows × 42 columns</p>\n",
       "</div>"
      ],
      "text/plain": [
       "    pct_tl_open_L6M  pct_tl_closed_L6M  Tot_TL_closed_L12M  pct_tl_open_L12M  \\\n",
       "0             0.000                0.0                   0             0.000   \n",
       "1             0.000                0.0                   0             1.000   \n",
       "2             0.125                0.0                   0             0.250   \n",
       "3             0.000                0.0                   0             0.167   \n",
       "4             0.000                0.0                   1             0.429   \n",
       "..              ...                ...                 ...               ...   \n",
       "95            0.000                0.0                   0             0.152   \n",
       "96            0.222                0.0                   2             0.538   \n",
       "97            0.000                0.0                   0             0.211   \n",
       "98            0.000                1.0                   1             0.396   \n",
       "99            0.500                0.0                   0             0.353   \n",
       "\n",
       "    pct_tl_closed_L12M  Tot_Missed_Pmnt  CC_TL  Home_TL  PL_TL  Secured_TL  \\\n",
       "0                0.000                0      0        0      4           1   \n",
       "1                0.000                0      0        0      0           0   \n",
       "2                0.000                1      0        0      0           2   \n",
       "3                0.000                0      0        0      0           3   \n",
       "4                0.167                0      0        0      0           6   \n",
       "..                 ...              ...    ...      ...    ...         ...   \n",
       "95               0.000                0      0        0      1           1   \n",
       "96               0.222                0      0        0      0           1   \n",
       "97               0.000                0      0        0      0           1   \n",
       "98               1.000                0      0        0      0           1   \n",
       "99               0.000                0      0        0      0           1   \n",
       "\n",
       "    ...  pct_PL_enq_L6m_of_ever  pct_CC_enq_L6m_of_ever  HL_Flag  GL_Flag  \\\n",
       "0   ...                   0.000                     0.0        1        0   \n",
       "1   ...                   0.000                     0.0        0        0   \n",
       "2   ...                   0.000                     0.0        1        0   \n",
       "3   ...                   0.000                     0.0        0        0   \n",
       "4   ...                   0.429                     0.0        1        0   \n",
       "..  ...                     ...                     ...      ...      ...   \n",
       "95  ...                   0.000                     0.0        0        0   \n",
       "96  ...                   0.000                     0.0        0        0   \n",
       "97  ...                   0.000                     0.0        0        0   \n",
       "98  ...                   0.000                     0.0        0        0   \n",
       "99  ...                   1.000                     0.0        0        0   \n",
       "\n",
       "    MARITALSTATUS      EDUCATION  GENDER  last_prod_enq2  first_prod_enq2  \\\n",
       "0         Married           12TH       M              PL               PL   \n",
       "1          Single       GRADUATE       F    ConsumerLoan     ConsumerLoan   \n",
       "2         Married            SSC       M    ConsumerLoan           others   \n",
       "3         Married  POST-GRADUATE       M              AL               AL   \n",
       "4         Married           12TH       M    ConsumerLoan               PL   \n",
       "..            ...            ...     ...             ...              ...   \n",
       "95        Married       GRADUATE       M    ConsumerLoan           others   \n",
       "96        Married           12TH       M    ConsumerLoan           others   \n",
       "97        Married            SSC       M          others           others   \n",
       "98        Married           12TH       M          others           others   \n",
       "99        Married         OTHERS       M          others           others   \n",
       "\n",
       "    Predictions  \n",
       "0            P2  \n",
       "1            P2  \n",
       "2            P2  \n",
       "3            P1  \n",
       "4            P4  \n",
       "..          ...  \n",
       "95           P2  \n",
       "96           P2  \n",
       "97           P2  \n",
       "98           P2  \n",
       "99           P2  \n",
       "\n",
       "[100 rows x 42 columns]"
      ]
     },
     "execution_count": 44,
     "metadata": {},
     "output_type": "execute_result"
    }
   ],
   "source": [
    "pd.read_excel('Updated_Unseen_Dataset.xlsx')   # prediction "
   ]
  },
  {
   "cell_type": "markdown",
   "id": "49acc368-970a-4a0f-8456-e0eb4509cfa0",
   "metadata": {},
   "source": [
    "_________________________________________________________________________________________________________________________________________"
   ]
  },
  {
   "cell_type": "code",
   "execution_count": null,
   "id": "60c077ec-938c-48a2-9acd-2876e22c4806",
   "metadata": {},
   "outputs": [],
   "source": []
  }
 ],
 "metadata": {
  "kernelspec": {
   "display_name": "Python 3 (ipykernel)",
   "language": "python",
   "name": "python3"
  },
  "language_info": {
   "codemirror_mode": {
    "name": "ipython",
    "version": 3
   },
   "file_extension": ".py",
   "mimetype": "text/x-python",
   "name": "python",
   "nbconvert_exporter": "python",
   "pygments_lexer": "ipython3",
   "version": "3.12.4"
  }
 },
 "nbformat": 4,
 "nbformat_minor": 5
}
